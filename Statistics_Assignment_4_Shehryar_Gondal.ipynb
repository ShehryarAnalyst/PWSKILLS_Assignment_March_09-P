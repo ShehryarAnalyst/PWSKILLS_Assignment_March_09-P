{
 "cells": [
  {
   "cell_type": "markdown",
   "id": "d9fdd8b5",
   "metadata": {},
   "source": [
    "## Assignments Questions"
   ]
  },
  {
   "cell_type": "markdown",
   "id": "877007bc",
   "metadata": {},
   "source": [
    "__Q1: What are the Probability Mass Function (PMF) and Probability Density Function (PDF)? Explain with\n",
    "an example ?__\n",
    "\n",
    "__Ans)__ The Probability Mass Function (PMF) and Probability Density Function (PDF) are both used in probability theory to describe the probability distribution of a random variable.\n",
    "\n",
    "A Probability Mass Function (PMF) is a function that describes the probability distribution of a discrete random variable. It gives the probability of each possible value of the random variable. In other words, the PMF is a function that maps from each possible value of the random variable to its probability of occurrence.\n",
    "\n",
    "__For example, let's say we roll a fair six-sided die. The possible outcomes are 1, 2, 3, 4, 5, and 6, and each outcome has an equal probability of 1/6. The PMF of the die roll is:__\n",
    "\n",
    "PMF(x) = {1/6 if x = 1, 1/6 if x = 2, 1/6 if x = 3, 1/6 if x = 4, 1/6 if x = 5, 1/6 if x = 6, 0 otherwise}\n",
    "\n",
    "This function gives the probability of each possible value of the random variable x.\n",
    "\n",
    "On the other hand, a Probability Density Function (PDF) is a function that describes the probability distribution of a continuous random variable. It gives the probability density of the random variable at each point in its range. The area under the PDF curve between two points represents the probability that the random variable falls within that range.\n",
    "\n",
    "__For example, let's say we have a random variable x that is uniformly distributed between 0 and 1. The PDF of x is:__\n",
    "\n",
    "PDF(x) = {1 if 0 ≤ x ≤ 1, 0 otherwise}\n",
    "\n",
    "__This function gives the probability density of x at each point in its range. The area under the PDF curve between any two points is simply the difference between the values of the CDF at those points, which gives the probability that x falls between those two points.__"
   ]
  },
  {
   "cell_type": "markdown",
   "id": "275671b7",
   "metadata": {},
   "source": [
    "__Q2: What is Cumulative Density Function (CDF)? Explain with an example. Why CDF is used?__\n",
    "\n",
    "__Ans)__  A Cumulative Distribution Function (CDF) is a function that describes the probability distribution of a random variable. It gives the probability that the random variable is less than or equal to a certain value. In other words, the CDF is a function that maps from each possible value of the random variable to the probability that the value of the random variable is less than or equal to that value.\n",
    "\n",
    "For a discrete random variable, the CDF is defined as the sum of the PMF up to that point. For a continuous random variable, the CDF is defined as the integral of the PDF up to that point.\n",
    "\n",
    "For example, let's say we have a random variable x that is uniformly distributed between 0 and 1. The PDF of x is:\n",
    "\n",
    "PDF(x) = {1 if 0 ≤ x ≤ 1, 0 otherwise}\n",
    "\n",
    "The CDF of x can be obtained by integrating the PDF from 0 to x:\n",
    "\n",
    "CDF(x) = ∫[0,x] PDF(t) dt = ∫[0,x] 1 dt = x, for 0 ≤ x ≤ 1\n",
    "\n",
    "This means that the probability that x is less than or equal to any value between 0 and 1 is simply that value. For example, the probability that x is less than or equal to 0.5 is 0.5, and the probability that x is less than or equal to 0.8 is 0.8.\n",
    "\n",
    "The CDF is useful because it allows us to calculate probabilities for a wide range of events."
   ]
  },
  {
   "cell_type": "markdown",
   "id": "8a6abca2",
   "metadata": {},
   "source": [
    "__Q3: What are some examples of situations where the normal distribution might be used as a model?\n",
    "Explain how the parameters of the normal distribution relate to the shape of the distribution.?__\n",
    "\n",
    "__Ans)__ The normal distribution is commonly used as a model in situations where a continuous random variable has a symmetric bell-shaped distribution. Some examples of situations where the normal distribution might be used as a model include:\n",
    "\n",
    "1. Height of a population: The heights of individuals in a population often follow a normal distribution.\n",
    "\n",
    "2. IQ scores: IQ scores also follow a normal distribution, with a mean of 100 and a standard deviation of 15.\n",
    "\n",
    "3. Errors in measurements: Errors in measurements often follow a normal distribution, with the mean representing the true value and the standard deviation representing the precision of the measurement.\n",
    "\n",
    "4. Stock prices: Changes in stock prices over short periods of time often follow a normal distribution.\n",
    "\n",
    "The normal distribution is characterized by two parameters: the mean (μ) and the standard deviation (σ). The mean determines the center of the distribution, while the standard deviation determines the spread of the distribution. The larger the value of σ, the more spread out the distribution will be.\n",
    "\n",
    "The shape of the normal distribution is determined by the mean and standard deviation through the following properties:\n",
    "\n",
    "* __Symmetry:__ The normal distribution is a symmetric distribution, with the mean (μ) located at the center of the distribution.\n",
    "\n",
    "* __Bell-shaped:__ The normal distribution is a bell-shaped distribution, with the majority of the observations located around the mean and a smaller number of observations located in the tails of the distribution.\n",
    "\n",
    "* __Inflection points:__ The inflection points of the normal distribution are located at μ - σ and μ + σ, where the curve changes from concave up to concave down or vice versa.\n",
    "\n",
    "Overall, the normal distribution is a useful model for many real-world situations because of its mathematical properties and widespread applicability."
   ]
  },
  {
   "cell_type": "markdown",
   "id": "572282b9",
   "metadata": {},
   "source": [
    "__Q4: Explain the importance of Normal Distribution. Give a few real-life examples of Normal\n",
    "Distribution.?__\n",
    "\n",
    "__Ans)__ The normal distribution is important in many fields because of its mathematical properties and widespread applicability. Here are some of the reasons why the normal distribution is so important:\n",
    "\n",
    "It is a common distribution: The normal distribution is a very common distribution in nature and in human behavior. Many phenomena can be described as normally distributed, making it a useful tool for modeling real-world situations.\n",
    "\n",
    "Central Limit Theorem: One of the most important properties of the normal distribution is the Central Limit Theorem, which states that the sum of a large number of independent and identically distributed random variables will tend to follow a normal distribution, regardless of the underlying distribution of the individual variables. This property makes the normal distribution a key tool in statistical inference and hypothesis testing.\n",
    "\n",
    "Mathematical convenience: The normal distribution has many mathematical properties that make it easy to work with. For example, the mean, median, and mode are all equal in a normal distribution, and many statistical tests and confidence intervals are based on the normal distribution.\n",
    "\n",
    "Here are some real-life examples of normal distribution:\n",
    "\n",
    "Heights of adult humans: The heights of adult humans tend to follow a normal distribution, with the majority of individuals being around the mean height and fewer individuals at the extremes of height.\n",
    "\n",
    "Test scores: The scores on many standardized tests, such as the SAT or GRE, tend to follow a normal distribution. This allows test administrators to set cutoff scores and percentile ranks based on the normal distribution."
   ]
  },
  {
   "cell_type": "markdown",
   "id": "86466ab7",
   "metadata": {},
   "source": [
    "__Q5: What is Bernaulli Distribution? Give an Example. What is the difference between Bernoulli\n",
    "Distribution and Binomial Distribution?__\n",
    "\n",
    "__Ans)__ Bernoulli distribution models a single trial with two outcomes, success and failure, characterized by one parameter p.\n",
    "__Example: Flipping a coin, where success is getting heads and p=0.5 for a fair coin.__\n",
    "\n",
    "Binomial distribution models the number of successes in n independent Bernoulli trials, characterized by two parameters, n and p.\n",
    "\n",
    "* __Difference:__ Bernoulli models a single trial, Binomial models the number of successes in n trials."
   ]
  },
  {
   "cell_type": "markdown",
   "id": "b3c640e5",
   "metadata": {},
   "source": [
    "__Q6. Consider a dataset with a mean of 50 and a standard deviation of 10. If we assume that the dataset\n",
    "is normally distributed, what is the probability that a randomly selected observation will be greater\n",
    "than 60? Use the appropriate formula and show your calculations.__\n",
    "<br>\n",
    "\n",
    "\n",
    "![image](Q3.jpeg)"
   ]
  },
  {
   "cell_type": "markdown",
   "id": "ce393486",
   "metadata": {},
   "source": [
    "__Q7: Explain uniform Distribution with an example.?__\n",
    "\n",
    "__Ans)__ The uniform distribution is a probability distribution that models a random experiment where each outcome has an equal chance of occurring. In other words, the probability of any outcome in the sample space is the same.\n",
    "\n",
    "The uniform distribution is characterized by two parameters, a and b, which represent the lower and upper bounds of the sample space. The probability density function (PDF) of the uniform distribution is:\n",
    "\n",
    "f(x) = 1 / (b - a), for a ≤ x ≤ b\n",
    "f(x) = 0, otherwise\n",
    "\n",
    "This means that any outcome in the sample space has an equal probability of 1/(b-a) of occurring.\n",
    "\n",
    "An example of the uniform distribution is rolling a fair six-sided die. The sample space is {1, 2, 3, 4, 5, 6}, and each outcome has an equal probability of occurring, which is 1/6. In this case, a = 1 and b = 6, so the PDF of the uniform distribution is:\n",
    "\n",
    "f(x) = 1/6, for 1 ≤ x ≤ 6\n",
    "f(x) = 0, otherwise"
   ]
  },
  {
   "cell_type": "markdown",
   "id": "68f7d79f",
   "metadata": {},
   "source": [
    "__Q8: What is the z score? State the importance of the z score ?__\n",
    "\n",
    "__Ans)__ The z-score, also known as the standard score, is a measure of how many standard deviations a data point is away from the mean of a distribution. It is calculated by subtracting the mean from the data point and dividing the result by the standard deviation. The formula for the z-score is:\n",
    "\n",
    "z = (x - μ) / σ\n",
    "\n",
    "where x is the data point, μ is the mean of the distribution, and σ is the standard deviation.\n",
    "\n",
    "The z-score is important because it allows us to compare data points from different distributions on a common scale. By standardizing the data, we can calculate the probability of observing a data point or a range of data points using the standard normal distribution table, which is based on the standard normal distribution with a mean of 0 and a standard deviation of 1.\n",
    "\n",
    "__The z-score is used in many areas of statistics, such as hypothesis testing, confidence intervals, and quality control. For example, in hypothesis testing, we compare the z-score of a sample to the critical values from the standard normal distribution to determine whether to reject or fail to reject a null hypothesis.__\n",
    "\n",
    "__Overall, the z-score is a useful tool in statistics for standardizing data and comparing data points from different distributions on a common scale__"
   ]
  },
  {
   "cell_type": "markdown",
   "id": "ba877e8b",
   "metadata": {},
   "source": [
    "__Q9: What is Central Limit Theorem? State the significance of the Central Limit Theorem?__\n",
    "\n",
    "__Ans)__ The Central Limit Theorem (CLT) is a fundamental theorem in statistics that states that as the sample size increases, the distribution of the sample means approaches a normal distribution, regardless of the distribution of the population. Specifically, the CLT states that if a random sample of size n is taken from any population with a finite mean and a finite variance, then the sample means will be approximately normally distributed with a mean equal to the population mean and a variance equal to the population variance divided by n.\n",
    "\n",
    "The significance of the CLT is that it allows us to use the normal distribution to make inferences about the population mean, even if the population is not normally distributed. This is important in statistics because many real-world phenomena do not follow a normal distribution, but the CLT provides a way to estimate the mean of the population using the mean of the sample means. This is particularly useful when working with large data sets or populations where it is not feasible to collect data from every individual."
   ]
  },
  {
   "cell_type": "markdown",
   "id": "5d9680bc",
   "metadata": {},
   "source": [
    "__Q10: State the assumptions of the Central Limit Theorem?__\n",
    "\n",
    "__Ans)__ The Central Limit Theorem (CLT) is a fundamental theorem in statistics that describes the behavior of the sample means from a population with any distribution as the sample size becomes larger. The CLT has several assumptions, which include:\n",
    "\n",
    "* __Random sampling:__ The samples are drawn randomly and independently from the population.\n",
    "\n",
    "* __Finite population or infinite population with replacement:__ The population size is either finite, or if the population is infinite, the sample is drawn with replacement.\n",
    "\n",
    "* __Independence:__ The observations within the sample are independent of each other.\n",
    "\n",
    "* __Sample size:__ The sample size is large enough. While there is no exact rule for what constitutes a large enough sample size, a commonly used rule of thumb is that the sample size should be greater than or equal to 30.\n",
    "\n",
    "* __Identical distribution:__ The observations within the sample are drawn from the same underlying distribution.\n",
    "\n",
    "If these assumptions are met, the CLT states that the distribution of the sample means will approach a normal distribution as the sample size increases, regardless of the distribution of the population. This allows us to use the normal distribution to make inferences about the population mean, even if the population is not normally distributed.\n",
    "\n",
    "Overall, the assumptions of the CLT are important to consider when using the theorem, as violating any of these assumptions can affect the accuracy of the results."
   ]
  },
  {
   "cell_type": "markdown",
   "id": "068f6a05",
   "metadata": {},
   "source": [
    "-------------------------------------------------------------------------------------------- __End__----------------------------------------------------------------------------------------------------------------"
   ]
  }
 ],
 "metadata": {
  "kernelspec": {
   "display_name": "Python 3 (ipykernel)",
   "language": "python",
   "name": "python3"
  },
  "language_info": {
   "codemirror_mode": {
    "name": "ipython",
    "version": 3
   },
   "file_extension": ".py",
   "mimetype": "text/x-python",
   "name": "python",
   "nbconvert_exporter": "python",
   "pygments_lexer": "ipython3",
   "version": "3.9.12"
  },
  "varInspector": {
   "cols": {
    "lenName": 16,
    "lenType": 16,
    "lenVar": 40
   },
   "kernels_config": {
    "python": {
     "delete_cmd_postfix": "",
     "delete_cmd_prefix": "del ",
     "library": "var_list.py",
     "varRefreshCmd": "print(var_dic_list())"
    },
    "r": {
     "delete_cmd_postfix": ") ",
     "delete_cmd_prefix": "rm(",
     "library": "var_list.r",
     "varRefreshCmd": "cat(var_dic_list()) "
    }
   },
   "types_to_exclude": [
    "module",
    "function",
    "builtin_function_or_method",
    "instance",
    "_Feature"
   ],
   "window_display": false
  }
 },
 "nbformat": 4,
 "nbformat_minor": 5
}
